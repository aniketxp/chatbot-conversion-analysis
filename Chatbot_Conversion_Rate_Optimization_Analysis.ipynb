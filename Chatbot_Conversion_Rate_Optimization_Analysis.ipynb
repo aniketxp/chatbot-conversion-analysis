{
  "nbformat": 4,
  "nbformat_minor": 0,
  "metadata": {
    "colab": {
      "provenance": []
    },
    "kernelspec": {
      "name": "python3",
      "display_name": "Python 3"
    },
    "language_info": {
      "name": "python"
    }
  },
  "cells": [
    {
      "cell_type": "markdown",
      "source": [
        "#Defining the Hypothesis#\n",
        "\n",
        "\n",
        "We aim to test whether users who interact with an AI chatbot convert at a higher rate than those who don’t.\n",
        "\n",
        "Null Hypothesis (H₀): The conversion rate is the same for both groups.\n",
        "Alternative Hypothesis\n",
        "\n",
        "(H₁): Users who interact with the chatbot have a higher conversion rate than those who don’t.\n",
        "\n",
        "Since we are comparing categorical data (converted vs. not converted across two groups), we use a Chi-square test for proportions and Bayesian inference.bold text bold text"
      ],
      "metadata": {
        "id": "MjWWoasCd9Ah"
      }
    },
    {
      "cell_type": "markdown",
      "source": [
        "#Power Analysis – Determining Sample Size\n",
        "\n",
        "Before running the experiment, we should calculate how many users we need per group to detect a meaningful effect.\n",
        "\n",
        "Why Power Analysis?\n",
        "\n",
        "Ensures our sample size is large enough to detect a true effect.\n",
        "\n",
        "Prevents underpowered tests that might lead to incorrect conclusions.\n",
        "\n",
        "Assumptions:\n",
        "\n",
        "Expected conversion rate with chatbot = 18%\n",
        "\n",
        "Expected conversion rate without chatbot = 12%\n",
        "\n",
        "Significance level (α) = 0.05\n",
        "\n",
        "Power (1 - β) = 0.8 (80% probability of detecting an effect)"
      ],
      "metadata": {
        "id": "0D2N5L3VewIZ"
      }
    },
    {
      "cell_type": "code",
      "execution_count": 7,
      "metadata": {
        "colab": {
          "base_uri": "https://localhost:8080/",
          "height": 0
        },
        "id": "_yqIzCmgawu9",
        "outputId": "5fa8ff9c-eee6-4a7f-d845-20d08ed74936"
      },
      "outputs": [
        {
          "output_type": "stream",
          "name": "stdout",
          "text": [
            "📌 Required Sample Size (Per Group): 7\n"
          ]
        }
      ],
      "source": [
        "import numpy as np\n",
        "import pandas as pd\n",
        "import scipy.stats as stats\n",
        "import seaborn as sns\n",
        "import matplotlib.pyplot as plt\n",
        "from statsmodels.stats.power import NormalIndPower\n",
        "\n",
        "# Set seed for reproducibility\n",
        "np.random.seed(42)\n",
        "\n",
        "# Define expected conversion rates\n",
        "p1 = 0.18  # Chatbot conversion rate\n",
        "p2 = 0.12  # No chatbot conversion rate\n",
        "alpha = 0.05  # Significance level\n",
        "power = 0.8  # Desired statistical power\n",
        "\n",
        "# Effect size calculation\n",
        "effect_size = stats.norm.ppf(1 - alpha/2) * np.sqrt(2 * (p1 * (1 - p1) + p2 * (1 - p2)))\n",
        "\n",
        "# Calculate required sample size per group\n",
        "analysis = NormalIndPower()\n",
        "sample_size = analysis.solve_power(effect_size=effect_size, alpha=alpha, power=power, alternative=\"larger\")\n",
        "sample_size = int(np.ceil(sample_size))\n",
        "\n",
        "print(f\"📌 Required Sample Size (Per Group): {sample_size}\")\n"
      ]
    },
    {
      "cell_type": "markdown",
      "source": [
        "#Generating Dummy Data\n",
        "\n",
        "We simulate conversion data based on the calculated sample size per group."
      ],
      "metadata": {
        "id": "F8iCz_-_fS-a"
      }
    },
    {
      "cell_type": "code",
      "source": [
        "# Simulating Experiment Data\n",
        "total_users = sample_size  # Use computed sample size\n",
        "chatbot_conversions = np.random.binomial(n=total_users, p=p1)\n",
        "no_chatbot_conversions = np.random.binomial(n=total_users, p=p2)\n",
        "\n",
        "# Create a contingency table\n",
        "observed = np.array([\n",
        "    [chatbot_conversions, total_users - chatbot_conversions],\n",
        "    [no_chatbot_conversions, total_users - no_chatbot_conversions]\n",
        "])\n",
        "\n",
        "# Convert to DataFrame for readability\n",
        "conversion_df = pd.DataFrame(\n",
        "    observed,\n",
        "    columns=[\"Converted\", \"Not Converted\"],\n",
        "    index=[\"With Chatbot\", \"Without Chatbot\"]\n",
        ")\n",
        "\n",
        "print(\"\\n📊 Conversion Data:\")\n",
        "print(conversion_df)\n"
      ],
      "metadata": {
        "colab": {
          "base_uri": "https://localhost:8080/",
          "height": 0
        },
        "id": "BV3D4MT_a2uh",
        "outputId": "e1856c27-5609-4315-a01b-86204ec8377f"
      },
      "execution_count": 8,
      "outputs": [
        {
          "output_type": "stream",
          "name": "stdout",
          "text": [
            "\n",
            "📊 Conversion Data:\n",
            "                 Converted  Not Converted\n",
            "With Chatbot             1              6\n",
            "Without Chatbot          2              5\n"
          ]
        }
      ]
    },
    {
      "cell_type": "markdown",
      "source": [
        "#Performing Chi-Square Test\n",
        "\n",
        "This test determines if the difference in conversion rates is statistically significant"
      ],
      "metadata": {
        "id": "dpIQb_pyfb9O"
      }
    },
    {
      "cell_type": "code",
      "source": [
        "# Perform Chi-Square Test\n",
        "chi2, p, dof, expected = stats.chi2_contingency(observed)\n",
        "\n",
        "# Calculate Effect Size (Cramér’s V)\n",
        "cramers_v = np.sqrt(chi2 / (np.sum(observed) * (min(observed.shape) - 1)))\n",
        "\n",
        "# Print results\n",
        "print(\"\\n📊 Hypothesis Test Results:\")\n",
        "print(f\"Chi-Square Statistic: {chi2:.4f}\")\n",
        "print(f\"P-value: {p:.4f}\")\n",
        "print(f\"Cramér’s V (Effect Size): {cramers_v:.4f}\")\n",
        "\n",
        "# Interpretation\n",
        "alpha = 0.05\n",
        "if p < alpha:\n",
        "    print(\"\\n✅ Conclusion: The chatbot significantly improves conversions!\")\n",
        "else:\n",
        "    print(\"\\n❌ Conclusion: No significant impact detected.\")\n"
      ],
      "metadata": {
        "colab": {
          "base_uri": "https://localhost:8080/",
          "height": 0
        },
        "id": "Yc2RNgwsa-Gf",
        "outputId": "50765df8-b948-48a2-d6ae-edda6baa058d"
      },
      "execution_count": 9,
      "outputs": [
        {
          "output_type": "stream",
          "name": "stdout",
          "text": [
            "\n",
            "📊 Hypothesis Test Results:\n",
            "Chi-Square Statistic: 0.0000\n",
            "P-value: 1.0000\n",
            "Cramér’s V (Effect Size): 0.0000\n",
            "\n",
            "❌ Conclusion: No significant impact detected.\n"
          ]
        }
      ]
    },
    {
      "cell_type": "markdown",
      "source": [
        "#Bayesian A/B Testing\n",
        "\n",
        "Frequentist methods (like the Chi-square test) only tell us whether an effect is statistically significant, but not how probable it is that the chatbot performs better.\n",
        "\n",
        "Why Bayesian?\n",
        "\n",
        "It calculates the probability that the chatbot is better.\n",
        "\n",
        "More intuitive than a simple p-value."
      ],
      "metadata": {
        "id": "iucbCooYfi1R"
      }
    },
    {
      "cell_type": "code",
      "source": [
        "# Bayesian A/B Test Approximation\n",
        "posterior_a = np.random.beta(chatbot_conversions + 1, total_users - chatbot_conversions + 1, 10000)\n",
        "posterior_b = np.random.beta(no_chatbot_conversions + 1, total_users - no_chatbot_conversions + 1, 10000)\n",
        "prob = (posterior_a > posterior_b).mean()\n",
        "\n",
        "print(f\"\\n🔍 Bayesian Probability that Chatbot is Better: {prob:.2%}\")\n"
      ],
      "metadata": {
        "colab": {
          "base_uri": "https://localhost:8080/",
          "height": 0
        },
        "id": "ds4oKWg2bFms",
        "outputId": "e2c9e63a-fa12-4391-942b-d16f9de2a567"
      },
      "execution_count": 10,
      "outputs": [
        {
          "output_type": "stream",
          "name": "stdout",
          "text": [
            "\n",
            "🔍 Bayesian Probability that Chatbot is Better: 28.75%\n"
          ]
        }
      ]
    },
    {
      "cell_type": "code",
      "source": [
        "import seaborn as sns\n",
        "import matplotlib.pyplot as plt\n",
        "\n",
        "# Prepare data for visualization\n",
        "df = pd.DataFrame({\n",
        "    \"Group\": [\"With Chatbot\", \"Without Chatbot\"],\n",
        "    \"Conversion Rate (%)\": [(chatbot_conversions / total_users) * 100,\n",
        "                            (no_chatbot_conversions / total_users) * 100]\n",
        "})\n",
        "\n",
        "# Plot the conversion rates\n",
        "plt.figure(figsize=(6, 4))\n",
        "sns.barplot(x=\"Group\", y=\"Conversion Rate (%)\", hue=\"Group\", data=df, palette=\"viridis\", legend=False)\n",
        "plt.title(\"Conversion Rate Comparison: Chatbot vs. No Chatbot\")\n",
        "plt.ylabel(\"Conversion Rate (%)\")\n",
        "plt.xlabel(\"User Group\")\n",
        "plt.ylim(0, 20)\n",
        "plt.show()"
      ],
      "metadata": {
        "colab": {
          "base_uri": "https://localhost:8080/",
          "height": 410
        },
        "id": "p-Ao9lgMbLQk",
        "outputId": "dcccd7a7-fb19-4dc2-e03e-92cb978d8c61"
      },
      "execution_count": 12,
      "outputs": [
        {
          "output_type": "display_data",
          "data": {
            "text/plain": [
              "<Figure size 600x400 with 1 Axes>"
            ],
            "image/png": "[encoded data removed]"
          },
          "metadata": {}
        }
      ]
    },
    {
      "cell_type": "markdown",
      "source": [
        "#Conclusion and Key Takeaways for Growth Teams\n",
        "\n",
        "Understanding conversion impact: Not all chatbots improve conversions; test and analyze before implementing.\n",
        "\n",
        "Segment users: Break down results by user types (new vs. returning) for deeper insights.\n",
        "\n",
        "Experiment further: Try different chatbot prompts and interaction styles to optimize engagement.\n",
        "\n",
        "Measure secondary effects: Look beyond conversion rates—track engagement, retention, and session duration.\n",
        "\n",
        "🔍 Want to go even further?\n",
        "\n",
        "✅ Test different chatbot prompts to see which works best.\n",
        "\n",
        "✅ Analyze by user segments (new vs. returning users).\n",
        "\n",
        "✅ Measure secondary effects (time on site, engagement, retention)."
      ],
      "metadata": {
        "id": "YCN8I22JgT6f"
      }
    },
    {
      "cell_type": "code",
      "source": [],
      "metadata": {
        "id": "mMvv2DtSgZOx"
      },
      "execution_count": null,
      "outputs": []
    }
  ]
}